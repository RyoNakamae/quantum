{
 "cells": [
  {
   "cell_type": "code",
   "execution_count": 7,
   "metadata": {},
   "outputs": [],
   "source": [
    "# !pip install blueqat"
   ]
  },
  {
   "cell_type": "code",
   "execution_count": 23,
   "metadata": {},
   "outputs": [
    {
     "data": {
      "text/plain": [
       "array([1.+0.j])"
      ]
     },
     "execution_count": 23,
     "metadata": {},
     "output_type": "execute_result"
    }
   ],
   "source": [
    "# 準備\n",
    "from blueqat import Circuit\n",
    "Circuit()\n",
    "\n",
    "# 最初の状態：|0>\n",
    "Circuit().run()"
   ]
  },
  {
   "cell_type": "code",
   "execution_count": 42,
   "metadata": {},
   "outputs": [
    {
     "data": {
      "text/plain": [
       "array([0.+0.j, 1.+0.j])"
      ]
     },
     "execution_count": 42,
     "metadata": {},
     "output_type": "execute_result"
    }
   ],
   "source": [
    "# Xゲートを0番目の量子につなぐ\n",
    "# Xゲート：反転\n",
    "Circuit().x[0].run()\n",
    "# Circuit().run()\n"
   ]
  },
  {
   "cell_type": "code",
   "execution_count": 55,
   "metadata": {},
   "outputs": [
    {
     "data": {
      "text/plain": [
       "array([0.70710678+0.j, 0.70710678+0.j])"
      ]
     },
     "execution_count": 55,
     "metadata": {},
     "output_type": "execute_result"
    }
   ],
   "source": [
    "# H：アダマールゲート：重ね合わせの状態を作る\n",
    "Circuit().h[0].run()\n"
   ]
  },
  {
   "cell_type": "code",
   "execution_count": 56,
   "metadata": {},
   "outputs": [
    {
     "name": "stdout",
     "output_type": "stream",
     "text": [
      "Counter({'1': 100})\n",
      "Counter({'1': 100})\n",
      "Counter({'0': 100})\n",
      "Counter({'1': 58, '0': 42})\n"
     ]
    }
   ],
   "source": [
    "# 測定\n",
    "# Circuit().m[:].run(shots=100)\n",
    "print(Circuit().x[0].m[:].run(shots=100))\n",
    "print(Circuit().y[0].m[:].run(shots=100))\n",
    "print(Circuit().z[0].m[:].run(shots=100))\n",
    "print(Circuit().h[0].m[:].run(shots=100))"
   ]
  },
  {
   "cell_type": "markdown",
   "metadata": {},
   "source": [
    "\n",
    "https://qiita.com/gyu-don/items/9db7a585a126ffd1b994\n",
    "last_resultみたいな使い方はやめたとのこと。\n"
   ]
  },
  {
   "cell_type": "code",
   "execution_count": 65,
   "metadata": {},
   "outputs": [
    {
     "data": {
      "text/plain": [
       "Counter({'00': 1})"
      ]
     },
     "execution_count": 65,
     "metadata": {},
     "output_type": "execute_result"
    }
   ],
   "source": [
    "# 2量子ビット\n",
    "# CXゲート：制御ビットが1の時だけ、ターゲットビットを反転\n",
    "Circuit().cx[0,1].m[:].run(shots=1)"
   ]
  },
  {
   "cell_type": "code",
   "execution_count": 75,
   "metadata": {},
   "outputs": [
    {
     "name": "stdout",
     "output_type": "stream",
     "text": [
      "Counter({'10': 1}) -> Counter({'11': 1})\n",
      "Counter({'11': 1}) -> Counter({'10': 1})\n",
      "Counter({'01': 1}) -> Counter({'01': 1})\n"
     ]
    }
   ],
   "source": [
    "# CXゲートのその他パターン\n",
    "c1 = Circuit(2).x[0]\n",
    "print(\"{} -> {}\".format(c1.m[:].run(shots=1), c1.cx[0,1].m[:].run(shots=1)))\n",
    "\n",
    "c2 = Circuit(2).x[0].x[1]\n",
    "print(\"{} -> {}\".format(c2.m[:].run(shots=1), c2.cx[0,1].m[:].run(shots=1)))\n",
    "# print(Circuit(2).x[0].x[1].cx[0,1].m[:].run(shots=1))\n",
    "\n",
    "c3 = Circuit(2).x[1]\n",
    "print(\"{} -> {}\".format(c3.m[:].run(shots=1), c3.cx[0,1].m[:].run(shots=1)))\n",
    "# print(Circuit(2).x[1].cx[0,1].m[:].run(shots=1))\n"
   ]
  },
  {
   "cell_type": "code",
   "execution_count": 63,
   "metadata": {},
   "outputs": [
    {
     "data": {
      "text/plain": [
       "Counter({'110': 1})"
      ]
     },
     "execution_count": 63,
     "metadata": {},
     "output_type": "execute_result"
    }
   ],
   "source": [
    "# 量子数を指定\n",
    "Circuit(3).x[0].cx[0,1].m[:].run(shots=1)"
   ]
  },
  {
   "cell_type": "code",
   "execution_count": 81,
   "metadata": {},
   "outputs": [
    {
     "data": {
      "text/plain": [
       "Counter({'10': 52, '00': 48})"
      ]
     },
     "execution_count": 81,
     "metadata": {},
     "output_type": "execute_result"
    }
   ],
   "source": [
    "# Circuit().h[0].cx[0,1].m[:].run(shots=100)\n",
    "Circuit(2).h[0].m[:].run(shots=100)"
   ]
  },
  {
   "cell_type": "code",
   "execution_count": 82,
   "metadata": {},
   "outputs": [
    {
     "data": {
      "text/plain": [
       "Counter({'01': 100})"
      ]
     },
     "execution_count": 82,
     "metadata": {},
     "output_type": "execute_result"
    }
   ],
   "source": [
    "Circuit().x[0].cx[0,1].cx[1,0].cx[0,1].m[:].run(shots=100)"
   ]
  },
  {
   "cell_type": "code",
   "execution_count": 89,
   "metadata": {},
   "outputs": [
    {
     "name": "stdout",
     "output_type": "stream",
     "text": [
      "Counter({'111': 1})\n",
      "Counter({'100': 1})\n",
      "Counter({'100': 1})\n",
      "Counter({'010': 1})\n",
      "Counter({'111': 1})\n",
      "Counter({'110': 1})\n"
     ]
    }
   ],
   "source": [
    "# CCXゲート：制御ビットが両方1の時、標的ビットを反転する\n",
    "# 真面目に書くと長くなるが、これ用の関数が用意されているのでそれを使えばOK\n",
    "print(Circuit().x[:2].ccx[0,1,2].m[:].run(shots=1))\n",
    "print(Circuit().x[:1].ccx[0,1,2].m[:].run(shots=1))\n",
    "print(Circuit().x[0].ccx[0,1,2].m[:].run(shots=1))\n",
    "print(Circuit().x[1].ccx[0,1,2].m[:].run(shots=1))\n",
    "print(Circuit().x[0].x[1].ccx[0,1,2].m[:].run(shots=1))\n",
    "print(Circuit().x[0].x[1].x[2].ccx[0,1,2].m[:].run(shots=1))\n",
    "\n"
   ]
  }
 ],
 "metadata": {
  "kernelspec": {
   "display_name": "Python 3",
   "language": "python",
   "name": "python3"
  },
  "language_info": {
   "codemirror_mode": {
    "name": "ipython",
    "version": 3
   },
   "file_extension": ".py",
   "mimetype": "text/x-python",
   "name": "python",
   "nbconvert_exporter": "python",
   "pygments_lexer": "ipython3",
   "version": "3.6.8"
  }
 },
 "nbformat": 4,
 "nbformat_minor": 2
}
